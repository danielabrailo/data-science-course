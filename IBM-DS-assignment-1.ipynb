{
  "nbformat": 4,
  "nbformat_minor": 0,
  "metadata": {
    "colab": {
      "provenance": []
    },
    "kernelspec": {
      "name": "python3",
      "display_name": "Python 3"
    },
    "language_info": {
      "name": "python"
    }
  },
  "cells": [
    {
      "cell_type": "code",
      "execution_count": null,
      "metadata": {
        "id": "ys-1_YIfMxGU"
      },
      "outputs": [],
      "source": []
    },
    {
      "cell_type": "markdown",
      "source": [
        "# My Jupyter Notebook "
      ],
      "metadata": {
        "id": "wZT5iOQWNkKp"
      }
    },
    {
      "cell_type": "markdown",
      "source": [
        "**Daniela**\n",
        "\n",
        "Full Stack Developer "
      ],
      "metadata": {
        "id": "lw0kt0r8NtOb"
      }
    },
    {
      "cell_type": "markdown",
      "source": [
        "*I am interested in data science because I think it's a fascinating field*"
      ],
      "metadata": {
        "id": "OwGE8I2NOFiv"
      }
    },
    {
      "cell_type": "markdown",
      "source": [
        "###Code below will output the sum of 2 + 2 ###"
      ],
      "metadata": {
        "id": "LZB7duDXOTX1"
      }
    },
    {
      "cell_type": "code",
      "source": [
        "2 + 2"
      ],
      "metadata": {
        "colab": {
          "base_uri": "https://localhost:8080/"
        },
        "id": "4M-teKdEOfQT",
        "outputId": "946aad76-013c-4e97-a06d-a51fe5f71606"
      },
      "execution_count": 1,
      "outputs": [
        {
          "output_type": "execute_result",
          "data": {
            "text/plain": [
              "4"
            ]
          },
          "metadata": {},
          "execution_count": 1
        }
      ]
    },
    {
      "cell_type": "markdown",
      "source": [
        "Reasons why I love cats:\n",
        "\n",
        "\n",
        "1.   They are cute\n",
        "2.   They purr\n",
        "3.   They are funny\n",
        "\n",
        "\n",
        "\n",
        "---\n",
        "\n",
        "\n",
        "Here's a cute picture of cats: [Unsplash kitties](https://unsplash.com/photos/2JcixB1Ky3I)\n"
      ],
      "metadata": {
        "id": "2k2hU6nwPk9q"
      }
    }
  ]
}